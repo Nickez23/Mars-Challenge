{
 "cells": [
  {
   "cell_type": "code",
   "execution_count": 1,
   "metadata": {},
   "outputs": [],
   "source": [
    "# Import Splinter and BeautifulSoup\n",
    "from splinter import Browser\n",
    "from bs4 import BeautifulSoup as soup\n",
    "from webdriver_manager.chrome import ChromeDriverManager"
   ]
  },
  {
   "cell_type": "code",
   "execution_count": 2,
   "metadata": {
    "scrolled": true
   },
   "outputs": [
    {
     "name": "stderr",
     "output_type": "stream",
     "text": [
      "[WDM] - Downloading: 100%|████████████████████████████████████████████████████████| 6.78M/6.78M [00:00<00:00, 21.8MB/s]\n"
     ]
    }
   ],
   "source": [
    "executable_path = {'executable_path': ChromeDriverManager().install()}\n",
    "browser = Browser('chrome', **executable_path, headless=False)"
   ]
  },
  {
   "cell_type": "code",
   "execution_count": 3,
   "metadata": {},
   "outputs": [],
   "source": [
    "# Visit the Mars NASA news site\n",
    "url = 'https://redplanetscience.com'\n",
    "browser.visit(url)"
   ]
  },
  {
   "cell_type": "code",
   "execution_count": 4,
   "metadata": {},
   "outputs": [],
   "source": [
    "html = browser.html\n",
    "news_soup = soup(html, 'html.parser')"
   ]
  },
  {
   "cell_type": "code",
   "execution_count": 5,
   "metadata": {},
   "outputs": [],
   "source": [
    "text_elems = news_soup.find_all('div', class_='list_text')"
   ]
  },
  {
   "cell_type": "code",
   "execution_count": 6,
   "metadata": {},
   "outputs": [],
   "source": [
    "news_items = []"
   ]
  },
  {
   "cell_type": "code",
   "execution_count": 7,
   "metadata": {},
   "outputs": [],
   "source": [
    "for pane in text_elems:\n",
    "    title = pane.find('div', class_='content_title').text\n",
    "    preview = pane.find('div', class_='article_teaser_body').text\n",
    "    news_item = {}\n",
    "    news_item['title'] = title\n",
    "    news_item['preview'] = preview\n",
    "    news_items.append(news_item)"
   ]
  },
  {
   "cell_type": "code",
   "execution_count": 8,
   "metadata": {},
   "outputs": [
    {
     "data": {
      "text/plain": [
       "[{'title': \"NASA's Mars Reconnaissance Orbiter Undergoes Memory Update\",\n",
       "  'preview': 'Other orbiters will continue relaying data from Mars surface missions for a two-week period.'},\n",
       " {'title': \"Curiosity Mars Rover's Summer Road Trip Has Begun\",\n",
       "  'preview': 'After more than a year in the \"clay-bearing unit,\" Curiosity is making a mile-long journey around some deep sand so that it can explore higher up Mount Sharp.'},\n",
       " {'title': 'Global Storms on Mars Launch Dust Towers Into the Sky',\n",
       "  'preview': 'A Mars Dust Tower Stands Out Dust storms are common on Mars. But every decade or so, something unpredictable happens: a series of runaway storms break out, covering the entire planet in a dusty haze.'},\n",
       " {'title': \"NASA's Treasure Map for Water Ice on Mars\",\n",
       "  'preview': 'A new study identifies frozen water just below the Martian surface, where astronauts could easily dig it up.'},\n",
       " {'title': \"NASA's Perseverance Rover Will Peer Beneath Mars' Surface \",\n",
       "  'preview': \"The agency's newest rover will use the first ground-penetrating radar instrument on the Martian surface to help search for signs of past microbial life. \"},\n",
       " {'title': \"Meet the People Behind NASA's Perseverance Rover\",\n",
       "  'preview': \"These are the scientists and engineers who built NASA's next Mars rover and who will guide it to a safe landing in Jezero Crater. \"},\n",
       " {'title': \"How NASA's Perseverance Mars Team Adjusted to Work in the Time of Coronavirus \",\n",
       "  'preview': 'Like much of the rest of the world, the Mars rover team is pushing forward with its mission-critical work while putting the health and safety of their colleagues and community first.'},\n",
       " {'title': 'AI Is Helping Scientists Discover Fresh Craters on Mars',\n",
       "  'preview': \"It's the first time machine learning has been used to find previously unknown craters on the Red Planet.\"},\n",
       " {'title': \"Mars Helicopter Attached to NASA's Perseverance Rover\",\n",
       "  'preview': \"The team also fueled the rover's sky crane to get ready for this summer's history-making launch.\"},\n",
       " {'title': 'NASA to Hold Mars 2020 Perseverance Rover Launch Briefing',\n",
       "  'preview': \"Learn more about the agency's next Red Planet mission during a live event on June 17.\"},\n",
       " {'title': 'NASA Moves Forward With Campaign to Return Mars Samples to Earth',\n",
       "  'preview': 'During this next phase, the program will mature critical technologies and make critical design decisions as well as assess industry partnerships.'},\n",
       " {'title': 'NASA Perseverance Mars Rover Scientists Train in the Nevada Desert',\n",
       "  'preview': \"Team members searched for signs of ancient microscopic life there, just as NASA's latest rover will on the Red Planet next year.\"},\n",
       " {'title': \"How NASA's Mars Helicopter Will Reach the Red Planet's Surface\",\n",
       "  'preview': 'The small craft will seek to prove that powered, controlled flight is possible on another planet. But just getting it onto the surface of Mars will take a whole lot of ingenuity.'},\n",
       " {'title': 'Mars Scientists Investigate Ancient Life in Australia',\n",
       "  'preview': \"Teams with NASA's Mars 2020 and ESA's ExoMars practiced hunting for fossilized microbial life in the Australian Outback in preparation for their Red Planet missions. \"},\n",
       " {'title': 'With Mars Methane Mystery Unsolved, Curiosity Serves Scientists a New One: Oxygen',\n",
       "  'preview': 'For the first time in the history of space exploration, scientists have measured the seasonal changes in the gases that fill the air directly above the surface of Gale Crater on Mars. '}]"
      ]
     },
     "execution_count": 8,
     "metadata": {},
     "output_type": "execute_result"
    }
   ],
   "source": [
    "news_items"
   ]
  },
  {
   "cell_type": "code",
   "execution_count": 9,
   "metadata": {},
   "outputs": [],
   "source": [
    "browser.quit()"
   ]
  },
  {
   "cell_type": "code",
   "execution_count": 10,
   "metadata": {},
   "outputs": [],
   "source": [
    "# Export data to JSON\n",
    "import json"
   ]
  },
  {
   "cell_type": "code",
   "execution_count": 11,
   "metadata": {},
   "outputs": [],
   "source": [
    "with open(\"mars_news_summaries.json\", \"w\") as file:\n",
    "    json.dump(news_items, file)"
   ]
  },
  {
   "cell_type": "code",
   "execution_count": 12,
   "metadata": {},
   "outputs": [],
   "source": [
    "# Export data to MongoDB\n",
    "from pymongo import MongoClient\n",
    "mongo = MongoClient(port=27017)"
   ]
  },
  {
   "cell_type": "code",
   "execution_count": 13,
   "metadata": {},
   "outputs": [
    {
     "data": {
      "text/plain": [
       "['admin', 'classDB', 'commerce_db', 'config', 'gardenDB', 'local', 'travel_db']"
      ]
     },
     "execution_count": 13,
     "metadata": {},
     "output_type": "execute_result"
    }
   ],
   "source": [
    "mongo.list_database_names()"
   ]
  },
  {
   "cell_type": "code",
   "execution_count": 14,
   "metadata": {},
   "outputs": [],
   "source": [
    "mars_db = mongo['mars_db']"
   ]
  },
  {
   "cell_type": "code",
   "execution_count": 15,
   "metadata": {},
   "outputs": [],
   "source": [
    "mars_news_collection = mars_db['news']"
   ]
  },
  {
   "cell_type": "code",
   "execution_count": 16,
   "metadata": {},
   "outputs": [],
   "source": [
    "for news in news_items:\n",
    "    mars_news_collection.insert_one(news)"
   ]
  },
  {
   "cell_type": "code",
   "execution_count": 17,
   "metadata": {},
   "outputs": [
    {
     "name": "stdout",
     "output_type": "stream",
     "text": [
      "{'_id': ObjectId('63fa340dec9c6db60d42e1ca'), 'title': \"NASA's Mars Reconnaissance Orbiter Undergoes Memory Update\", 'preview': 'Other orbiters will continue relaying data from Mars surface missions for a two-week period.'}\n",
      "{'_id': ObjectId('63fa340dec9c6db60d42e1cb'), 'title': \"Curiosity Mars Rover's Summer Road Trip Has Begun\", 'preview': 'After more than a year in the \"clay-bearing unit,\" Curiosity is making a mile-long journey around some deep sand so that it can explore higher up Mount Sharp.'}\n",
      "{'_id': ObjectId('63fa340dec9c6db60d42e1cc'), 'title': 'Global Storms on Mars Launch Dust Towers Into the Sky', 'preview': 'A Mars Dust Tower Stands Out Dust storms are common on Mars. But every decade or so, something unpredictable happens: a series of runaway storms break out, covering the entire planet in a dusty haze.'}\n",
      "{'_id': ObjectId('63fa340dec9c6db60d42e1cd'), 'title': \"NASA's Treasure Map for Water Ice on Mars\", 'preview': 'A new study identifies frozen water just below the Martian surface, where astronauts could easily dig it up.'}\n",
      "{'_id': ObjectId('63fa340dec9c6db60d42e1ce'), 'title': \"NASA's Perseverance Rover Will Peer Beneath Mars' Surface \", 'preview': \"The agency's newest rover will use the first ground-penetrating radar instrument on the Martian surface to help search for signs of past microbial life. \"}\n",
      "{'_id': ObjectId('63fa340dec9c6db60d42e1cf'), 'title': \"Meet the People Behind NASA's Perseverance Rover\", 'preview': \"These are the scientists and engineers who built NASA's next Mars rover and who will guide it to a safe landing in Jezero Crater. \"}\n",
      "{'_id': ObjectId('63fa340dec9c6db60d42e1d0'), 'title': \"How NASA's Perseverance Mars Team Adjusted to Work in the Time of Coronavirus \", 'preview': 'Like much of the rest of the world, the Mars rover team is pushing forward with its mission-critical work while putting the health and safety of their colleagues and community first.'}\n",
      "{'_id': ObjectId('63fa340dec9c6db60d42e1d1'), 'title': 'AI Is Helping Scientists Discover Fresh Craters on Mars', 'preview': \"It's the first time machine learning has been used to find previously unknown craters on the Red Planet.\"}\n",
      "{'_id': ObjectId('63fa340dec9c6db60d42e1d2'), 'title': \"Mars Helicopter Attached to NASA's Perseverance Rover\", 'preview': \"The team also fueled the rover's sky crane to get ready for this summer's history-making launch.\"}\n",
      "{'_id': ObjectId('63fa340dec9c6db60d42e1d3'), 'title': 'NASA to Hold Mars 2020 Perseverance Rover Launch Briefing', 'preview': \"Learn more about the agency's next Red Planet mission during a live event on June 17.\"}\n",
      "{'_id': ObjectId('63fa340dec9c6db60d42e1d4'), 'title': 'NASA Moves Forward With Campaign to Return Mars Samples to Earth', 'preview': 'During this next phase, the program will mature critical technologies and make critical design decisions as well as assess industry partnerships.'}\n",
      "{'_id': ObjectId('63fa340dec9c6db60d42e1d5'), 'title': 'NASA Perseverance Mars Rover Scientists Train in the Nevada Desert', 'preview': \"Team members searched for signs of ancient microscopic life there, just as NASA's latest rover will on the Red Planet next year.\"}\n",
      "{'_id': ObjectId('63fa340dec9c6db60d42e1d6'), 'title': \"How NASA's Mars Helicopter Will Reach the Red Planet's Surface\", 'preview': 'The small craft will seek to prove that powered, controlled flight is possible on another planet. But just getting it onto the surface of Mars will take a whole lot of ingenuity.'}\n",
      "{'_id': ObjectId('63fa340dec9c6db60d42e1d7'), 'title': 'Mars Scientists Investigate Ancient Life in Australia', 'preview': \"Teams with NASA's Mars 2020 and ESA's ExoMars practiced hunting for fossilized microbial life in the Australian Outback in preparation for their Red Planet missions. \"}\n",
      "{'_id': ObjectId('63fa340dec9c6db60d42e1d8'), 'title': 'With Mars Methane Mystery Unsolved, Curiosity Serves Scientists a New One: Oxygen', 'preview': 'For the first time in the history of space exploration, scientists have measured the seasonal changes in the gases that fill the air directly above the surface of Gale Crater on Mars. '}\n"
     ]
    }
   ],
   "source": [
    "results = mars_news_collection.find()\n",
    "for result in results:\n",
    "    print(result)"
   ]
  },
  {
   "cell_type": "code",
   "execution_count": null,
   "metadata": {},
   "outputs": [],
   "source": []
  }
 ],
 "metadata": {
  "kernelspec": {
   "display_name": "PythonData",
   "language": "python",
   "name": "pythondata"
  },
  "language_info": {
   "codemirror_mode": {
    "name": "ipython",
    "version": 3
   },
   "file_extension": ".py",
   "mimetype": "text/x-python",
   "name": "python",
   "nbconvert_exporter": "python",
   "pygments_lexer": "ipython3",
   "version": "3.7.7"
  }
 },
 "nbformat": 4,
 "nbformat_minor": 4
}
